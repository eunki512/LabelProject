{
 "cells": [
  {
   "cell_type": "code",
   "execution_count": 1,
   "id": "293d6c2e",
   "metadata": {},
   "outputs": [],
   "source": [
    "# 1. 이미지를 resize 합니다.\n",
    "import cv2\n",
    "import os\n",
    "import numpy as np\n",
    "\n",
    "path = 'C:\\\\cnn\\\\origin'  # 원본 위치\n",
    "file_list = os.listdir(path)  # 파일 이름 불러오는 부분\n",
    "\n",
    "for k in file_list:  # 리스트 안에 있는 파일들을 하나씩 빼내는 코드\n",
    "    img = cv2.imread(path + '\\\\' + k)  # 이미지 데이터를 행렬로 숫자로 변환합니다.\n",
    "    resize_img = cv2.resize(img, (32, 32), interpolation=cv2.INTER_CUBIC)  # 32×32 로 resize 합니다.\n",
    "    cv2.imwrite('C:\\\\cnn\\\\resize\\\\' + k, resize_img)  # resize 한 이미지를 저장합니다."
   ]
  },
  {
   "cell_type": "code",
   "execution_count": 2,
   "id": "d1019ecb",
   "metadata": {},
   "outputs": [],
   "source": [
    "# 2. 정답 csv 파일을 생성\n",
    "path = 'C:\\\\cnn\\\\train_label.csv'\n",
    "\n",
    "file = open(path, 'w')\n",
    "\n",
    "for i in range(1, 176):\n",
    "    file.write(str(0) + '\\n')\n",
    "for i in range(176, 351):\n",
    "    file.write(str(1) + '\\n')\n",
    "    \n",
    "file.close()"
   ]
  }
 ],
 "metadata": {
  "kernelspec": {
   "display_name": "Python 3 (ipykernel)",
   "language": "python",
   "name": "python3"
  },
  "language_info": {
   "codemirror_mode": {
    "name": "ipython",
    "version": 3
   },
   "file_extension": ".py",
   "mimetype": "text/x-python",
   "name": "python",
   "nbconvert_exporter": "python",
   "pygments_lexer": "ipython3",
   "version": "3.8.3"
  }
 },
 "nbformat": 4,
 "nbformat_minor": 5
}
